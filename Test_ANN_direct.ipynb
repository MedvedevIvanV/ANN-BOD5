{
  "nbformat": 4,
  "nbformat_minor": 0,
  "metadata": {
    "colab": {
      "provenance": [],
      "collapsed_sections": []
    },
    "kernelspec": {
      "name": "python3",
      "display_name": "Python 3"
    },
    "language_info": {
      "name": "python"
    }
  },
  "cells": [
    {
      "cell_type": "code",
      "execution_count": 2,
      "metadata": {
        "colab": {
          "base_uri": "https://localhost:8080/"
        },
        "id": "CJsStn4Qk0x7",
        "outputId": "fec280f4-dbee-43f5-a068-548bd829c03d"
      },
      "outputs": [
        {
          "output_type": "stream",
          "name": "stdout",
          "text": [
            "Looking in indexes: https://pypi.org/simple, https://us-python.pkg.dev/colab-wheels/public/simple/\n",
            "Collecting tensorflow==2.8.0\n",
            "  Downloading https://us-python.pkg.dev/colab-wheels/public/tensorflow/tensorflow-2.8.0%2Bzzzcolab20220506162203-cp37-cp37m-linux_x86_64.whl (668.3 MB)\n",
            "\u001b[K     |████████████████████████████████| 668.3 MB 17 kB/s \n",
            "\u001b[?25hCollecting tensorboard<2.9,>=2.8\n",
            "  Downloading tensorboard-2.8.0-py3-none-any.whl (5.8 MB)\n",
            "\u001b[K     |████████████████████████████████| 5.8 MB 26.4 MB/s \n",
            "\u001b[?25hRequirement already satisfied: flatbuffers>=1.12 in /usr/local/lib/python3.7/dist-packages (from tensorflow==2.8.0) (1.12)\n",
            "Requirement already satisfied: google-pasta>=0.1.1 in /usr/local/lib/python3.7/dist-packages (from tensorflow==2.8.0) (0.2.0)\n",
            "Requirement already satisfied: gast>=0.2.1 in /usr/local/lib/python3.7/dist-packages (from tensorflow==2.8.0) (0.4.0)\n",
            "Requirement already satisfied: tensorflow-io-gcs-filesystem>=0.23.1 in /usr/local/lib/python3.7/dist-packages (from tensorflow==2.8.0) (0.27.0)\n",
            "Collecting tf-estimator-nightly==2.8.0.dev2021122109\n",
            "  Downloading tf_estimator_nightly-2.8.0.dev2021122109-py2.py3-none-any.whl (462 kB)\n",
            "\u001b[K     |████████████████████████████████| 462 kB 52.3 MB/s \n",
            "\u001b[?25hRequirement already satisfied: wrapt>=1.11.0 in /usr/local/lib/python3.7/dist-packages (from tensorflow==2.8.0) (1.14.1)\n",
            "Requirement already satisfied: six>=1.12.0 in /usr/local/lib/python3.7/dist-packages (from tensorflow==2.8.0) (1.15.0)\n",
            "Requirement already satisfied: astunparse>=1.6.0 in /usr/local/lib/python3.7/dist-packages (from tensorflow==2.8.0) (1.6.3)\n",
            "Requirement already satisfied: numpy>=1.20 in /usr/local/lib/python3.7/dist-packages (from tensorflow==2.8.0) (1.21.6)\n",
            "Requirement already satisfied: grpcio<2.0,>=1.24.3 in /usr/local/lib/python3.7/dist-packages (from tensorflow==2.8.0) (1.49.1)\n",
            "Requirement already satisfied: setuptools in /usr/local/lib/python3.7/dist-packages (from tensorflow==2.8.0) (57.4.0)\n",
            "Requirement already satisfied: h5py>=2.9.0 in /usr/local/lib/python3.7/dist-packages (from tensorflow==2.8.0) (3.1.0)\n",
            "Requirement already satisfied: keras-preprocessing>=1.1.1 in /usr/local/lib/python3.7/dist-packages (from tensorflow==2.8.0) (1.1.2)\n",
            "Requirement already satisfied: protobuf>=3.9.2 in /usr/local/lib/python3.7/dist-packages (from tensorflow==2.8.0) (3.17.3)\n",
            "Requirement already satisfied: typing-extensions>=3.6.6 in /usr/local/lib/python3.7/dist-packages (from tensorflow==2.8.0) (4.1.1)\n",
            "Requirement already satisfied: absl-py>=0.4.0 in /usr/local/lib/python3.7/dist-packages (from tensorflow==2.8.0) (1.3.0)\n",
            "Requirement already satisfied: termcolor>=1.1.0 in /usr/local/lib/python3.7/dist-packages (from tensorflow==2.8.0) (2.0.1)\n",
            "Collecting keras<2.9,>=2.8.0rc0\n",
            "  Downloading keras-2.8.0-py2.py3-none-any.whl (1.4 MB)\n",
            "\u001b[K     |████████████████████████████████| 1.4 MB 67.4 MB/s \n",
            "\u001b[?25hRequirement already satisfied: opt-einsum>=2.3.2 in /usr/local/lib/python3.7/dist-packages (from tensorflow==2.8.0) (3.3.0)\n",
            "Requirement already satisfied: libclang>=9.0.1 in /usr/local/lib/python3.7/dist-packages (from tensorflow==2.8.0) (14.0.6)\n",
            "Requirement already satisfied: wheel<1.0,>=0.23.0 in /usr/local/lib/python3.7/dist-packages (from astunparse>=1.6.0->tensorflow==2.8.0) (0.37.1)\n",
            "Requirement already satisfied: cached-property in /usr/local/lib/python3.7/dist-packages (from h5py>=2.9.0->tensorflow==2.8.0) (1.5.2)\n",
            "Requirement already satisfied: tensorboard-data-server<0.7.0,>=0.6.0 in /usr/local/lib/python3.7/dist-packages (from tensorboard<2.9,>=2.8->tensorflow==2.8.0) (0.6.1)\n",
            "Requirement already satisfied: google-auth-oauthlib<0.5,>=0.4.1 in /usr/local/lib/python3.7/dist-packages (from tensorboard<2.9,>=2.8->tensorflow==2.8.0) (0.4.6)\n",
            "Requirement already satisfied: requests<3,>=2.21.0 in /usr/local/lib/python3.7/dist-packages (from tensorboard<2.9,>=2.8->tensorflow==2.8.0) (2.23.0)\n",
            "Requirement already satisfied: markdown>=2.6.8 in /usr/local/lib/python3.7/dist-packages (from tensorboard<2.9,>=2.8->tensorflow==2.8.0) (3.4.1)\n",
            "Requirement already satisfied: werkzeug>=0.11.15 in /usr/local/lib/python3.7/dist-packages (from tensorboard<2.9,>=2.8->tensorflow==2.8.0) (1.0.1)\n",
            "Requirement already satisfied: tensorboard-plugin-wit>=1.6.0 in /usr/local/lib/python3.7/dist-packages (from tensorboard<2.9,>=2.8->tensorflow==2.8.0) (1.8.1)\n",
            "Requirement already satisfied: google-auth<3,>=1.6.3 in /usr/local/lib/python3.7/dist-packages (from tensorboard<2.9,>=2.8->tensorflow==2.8.0) (1.35.0)\n",
            "Requirement already satisfied: rsa<5,>=3.1.4 in /usr/local/lib/python3.7/dist-packages (from google-auth<3,>=1.6.3->tensorboard<2.9,>=2.8->tensorflow==2.8.0) (4.9)\n",
            "Requirement already satisfied: pyasn1-modules>=0.2.1 in /usr/local/lib/python3.7/dist-packages (from google-auth<3,>=1.6.3->tensorboard<2.9,>=2.8->tensorflow==2.8.0) (0.2.8)\n",
            "Requirement already satisfied: cachetools<5.0,>=2.0.0 in /usr/local/lib/python3.7/dist-packages (from google-auth<3,>=1.6.3->tensorboard<2.9,>=2.8->tensorflow==2.8.0) (4.2.4)\n",
            "Requirement already satisfied: requests-oauthlib>=0.7.0 in /usr/local/lib/python3.7/dist-packages (from google-auth-oauthlib<0.5,>=0.4.1->tensorboard<2.9,>=2.8->tensorflow==2.8.0) (1.3.1)\n",
            "Requirement already satisfied: importlib-metadata>=4.4 in /usr/local/lib/python3.7/dist-packages (from markdown>=2.6.8->tensorboard<2.9,>=2.8->tensorflow==2.8.0) (4.13.0)\n",
            "Requirement already satisfied: zipp>=0.5 in /usr/local/lib/python3.7/dist-packages (from importlib-metadata>=4.4->markdown>=2.6.8->tensorboard<2.9,>=2.8->tensorflow==2.8.0) (3.9.0)\n",
            "Requirement already satisfied: pyasn1<0.5.0,>=0.4.6 in /usr/local/lib/python3.7/dist-packages (from pyasn1-modules>=0.2.1->google-auth<3,>=1.6.3->tensorboard<2.9,>=2.8->tensorflow==2.8.0) (0.4.8)\n",
            "Requirement already satisfied: certifi>=2017.4.17 in /usr/local/lib/python3.7/dist-packages (from requests<3,>=2.21.0->tensorboard<2.9,>=2.8->tensorflow==2.8.0) (2022.9.24)\n",
            "Requirement already satisfied: chardet<4,>=3.0.2 in /usr/local/lib/python3.7/dist-packages (from requests<3,>=2.21.0->tensorboard<2.9,>=2.8->tensorflow==2.8.0) (3.0.4)\n",
            "Requirement already satisfied: urllib3!=1.25.0,!=1.25.1,<1.26,>=1.21.1 in /usr/local/lib/python3.7/dist-packages (from requests<3,>=2.21.0->tensorboard<2.9,>=2.8->tensorflow==2.8.0) (1.24.3)\n",
            "Requirement already satisfied: idna<3,>=2.5 in /usr/local/lib/python3.7/dist-packages (from requests<3,>=2.21.0->tensorboard<2.9,>=2.8->tensorflow==2.8.0) (2.10)\n",
            "Requirement already satisfied: oauthlib>=3.0.0 in /usr/local/lib/python3.7/dist-packages (from requests-oauthlib>=0.7.0->google-auth-oauthlib<0.5,>=0.4.1->tensorboard<2.9,>=2.8->tensorflow==2.8.0) (3.2.1)\n",
            "Installing collected packages: tf-estimator-nightly, tensorboard, keras, tensorflow\n",
            "  Attempting uninstall: tensorboard\n",
            "    Found existing installation: tensorboard 2.9.1\n",
            "    Uninstalling tensorboard-2.9.1:\n",
            "      Successfully uninstalled tensorboard-2.9.1\n",
            "  Attempting uninstall: keras\n",
            "    Found existing installation: keras 2.9.0\n",
            "    Uninstalling keras-2.9.0:\n",
            "      Successfully uninstalled keras-2.9.0\n",
            "  Attempting uninstall: tensorflow\n",
            "    Found existing installation: tensorflow 2.9.2\n",
            "    Uninstalling tensorflow-2.9.2:\n",
            "      Successfully uninstalled tensorflow-2.9.2\n",
            "Successfully installed keras-2.8.0 tensorboard-2.8.0 tensorflow-2.8.0+zzzcolab20220506162203 tf-estimator-nightly-2.8.0.dev2021122109\n",
            "2.8.0\n"
          ]
        }
      ],
      "source": [
        "!pip install tensorflow==2.8.0\n",
        "import tensorflow as tf\n",
        "print(tf.__version__)"
      ]
    },
    {
      "cell_type": "markdown",
      "source": [],
      "metadata": {
        "id": "btdq4qPql7mu"
      }
    },
    {
      "cell_type": "code",
      "source": [
        "import numpy as np\n",
        "import matplotlib.pyplot as plt\n",
        "import pandas as pd\n",
        "import math\n",
        "from sklearn.metrics import mean_squared_error\n",
        "from sklearn.metrics import mean_absolute_error\n",
        "from sklearn.metrics import max_error\n",
        "from sklearn.metrics import mean_absolute_percentage_error\n",
        "from sklearn.metrics import r2_score"
      ],
      "metadata": {
        "id": "i4d5eoVrpIE1"
      },
      "execution_count": 3,
      "outputs": []
    },
    {
      "cell_type": "markdown",
      "source": [
        "Dataset link:\n",
        "https://docs.google.com/spreadsheets/d/1qART38B2l_G7VkJKsjvkIFkDRekeOnTj/edit?usp=sharing&ouid=114253294372712711027&rtpof=true&sd=true"
      ],
      "metadata": {
        "id": "0C3Zptylfhqg"
      }
    },
    {
      "cell_type": "markdown",
      "source": [
        "Linked to trained models: https://drive.google.com/drive/folders/1vOaNOT7qQYzozfA0Cce67sqyZ-8w9MlH?usp=sharing"
      ],
      "metadata": {
        "id": "vfmaKoqONYEm"
      }
    },
    {
      "cell_type": "code",
      "source": [
        "! gdown --id 1qART38B2l_G7VkJKsjvkIFkDRekeOnTj"
      ],
      "metadata": {
        "colab": {
          "base_uri": "https://localhost:8080/"
        },
        "id": "UfP7KgwvWjZQ",
        "outputId": "a061a3e0-e6a1-4e10-be54-4b7e70b1bb25"
      },
      "execution_count": 4,
      "outputs": [
        {
          "output_type": "stream",
          "name": "stdout",
          "text": [
            "/usr/local/lib/python3.7/dist-packages/gdown/cli.py:131: FutureWarning: Option `--id` was deprecated in version 4.3.1 and will be removed in 5.0. You don't need to pass it anymore to use a file ID.\n",
            "  category=FutureWarning,\n",
            "Downloading...\n",
            "From: https://drive.google.com/uc?id=1qART38B2l_G7VkJKsjvkIFkDRekeOnTj\n",
            "To: /content/Voltage_BOI.xlsx\n",
            "100% 282k/282k [00:00<00:00, 93.7MB/s]\n"
          ]
        }
      ]
    },
    {
      "cell_type": "code",
      "source": [
        "df = pd.read_excel('Voltage_BOI.xlsx')\n",
        "df=df.fillna(0)\n",
        "df.head()"
      ],
      "metadata": {
        "colab": {
          "base_uri": "https://localhost:8080/",
          "height": 317
        },
        "id": "B656q1lyWxIl",
        "outputId": "680e8941-2872-4068-d406-bb5fc375dbd8"
      },
      "execution_count": 5,
      "outputs": [
        {
          "output_type": "execute_result",
          "data": {
            "text/plain": [
              "   B0('9-16')  C0('11-25')  A0('11-28')  B('11-11')  C0('9-20')  B0('9-27')  \\\n",
              "0      0.0159       0.0063       0.0061      0.0021      0.0039      0.0280   \n",
              "1      0.0582       0.0504       0.0021      0.0009      0.0052      0.0448   \n",
              "2      0.1085       0.0667       0.0036      0.0014      0.0191      0.0740   \n",
              "3      0.1339       0.0679       0.0075      0.0021      0.0500      0.0858   \n",
              "4      0.1448       0.0666       0.0133      0.0036      0.0789      0.0919   \n",
              "\n",
              "   A0('10-03')  B('10-21')  C('10-24')  B('10-28')  ...  B0('10-03')  \\\n",
              "0       0.0103      0.0016      0.0009      0.0017  ...       0.0116   \n",
              "1       0.0014      0.0009      0.0008      0.0006  ...       0.0022   \n",
              "2       0.0010      0.0013      0.0014      0.0008  ...       0.0016   \n",
              "3       0.0009      0.0016      0.0024      0.0013  ...       0.0017   \n",
              "4       0.0010      0.0020      0.0039      0.0017  ...       0.0019   \n",
              "\n",
              "   C0('9-16')  C0('11-28')  C0('9-10')  C('10-30')  C(11-06')  C('11-11')  \\\n",
              "0      0.0131       0.0046      0.0024      0.0075     0.0013      0.0013   \n",
              "1      0.0534       0.0027      0.0089      0.0046     0.0040      0.0011   \n",
              "2      0.0804       0.0060      0.0242      0.0025     0.0094      0.0027   \n",
              "3      0.1123       0.0098      0.0480      0.0064     0.0176      0.0050   \n",
              "4      0.1243       0.0154      0.0631      0.0126     0.0279      0.0078   \n",
              "\n",
              "   B0(9-24')   min     d  \n",
              "0     0.0128   0.0  0.00  \n",
              "1     0.0625   5.0  0.00  \n",
              "2     0.1146  10.0  0.01  \n",
              "3     0.1324  15.0  0.01  \n",
              "4     0.1383  20.0  0.01  \n",
              "\n",
              "[5 rows x 58 columns]"
            ],
            "text/html": [
              "\n",
              "  <div id=\"df-db235734-d3c5-41e0-8d7c-009a59a0abfd\">\n",
              "    <div class=\"colab-df-container\">\n",
              "      <div>\n",
              "<style scoped>\n",
              "    .dataframe tbody tr th:only-of-type {\n",
              "        vertical-align: middle;\n",
              "    }\n",
              "\n",
              "    .dataframe tbody tr th {\n",
              "        vertical-align: top;\n",
              "    }\n",
              "\n",
              "    .dataframe thead th {\n",
              "        text-align: right;\n",
              "    }\n",
              "</style>\n",
              "<table border=\"1\" class=\"dataframe\">\n",
              "  <thead>\n",
              "    <tr style=\"text-align: right;\">\n",
              "      <th></th>\n",
              "      <th>B0('9-16')</th>\n",
              "      <th>C0('11-25')</th>\n",
              "      <th>A0('11-28')</th>\n",
              "      <th>B('11-11')</th>\n",
              "      <th>C0('9-20')</th>\n",
              "      <th>B0('9-27')</th>\n",
              "      <th>A0('10-03')</th>\n",
              "      <th>B('10-21')</th>\n",
              "      <th>C('10-24')</th>\n",
              "      <th>B('10-28')</th>\n",
              "      <th>...</th>\n",
              "      <th>B0('10-03')</th>\n",
              "      <th>C0('9-16')</th>\n",
              "      <th>C0('11-28')</th>\n",
              "      <th>C0('9-10')</th>\n",
              "      <th>C('10-30')</th>\n",
              "      <th>C(11-06')</th>\n",
              "      <th>C('11-11')</th>\n",
              "      <th>B0(9-24')</th>\n",
              "      <th>min</th>\n",
              "      <th>d</th>\n",
              "    </tr>\n",
              "  </thead>\n",
              "  <tbody>\n",
              "    <tr>\n",
              "      <th>0</th>\n",
              "      <td>0.0159</td>\n",
              "      <td>0.0063</td>\n",
              "      <td>0.0061</td>\n",
              "      <td>0.0021</td>\n",
              "      <td>0.0039</td>\n",
              "      <td>0.0280</td>\n",
              "      <td>0.0103</td>\n",
              "      <td>0.0016</td>\n",
              "      <td>0.0009</td>\n",
              "      <td>0.0017</td>\n",
              "      <td>...</td>\n",
              "      <td>0.0116</td>\n",
              "      <td>0.0131</td>\n",
              "      <td>0.0046</td>\n",
              "      <td>0.0024</td>\n",
              "      <td>0.0075</td>\n",
              "      <td>0.0013</td>\n",
              "      <td>0.0013</td>\n",
              "      <td>0.0128</td>\n",
              "      <td>0.0</td>\n",
              "      <td>0.00</td>\n",
              "    </tr>\n",
              "    <tr>\n",
              "      <th>1</th>\n",
              "      <td>0.0582</td>\n",
              "      <td>0.0504</td>\n",
              "      <td>0.0021</td>\n",
              "      <td>0.0009</td>\n",
              "      <td>0.0052</td>\n",
              "      <td>0.0448</td>\n",
              "      <td>0.0014</td>\n",
              "      <td>0.0009</td>\n",
              "      <td>0.0008</td>\n",
              "      <td>0.0006</td>\n",
              "      <td>...</td>\n",
              "      <td>0.0022</td>\n",
              "      <td>0.0534</td>\n",
              "      <td>0.0027</td>\n",
              "      <td>0.0089</td>\n",
              "      <td>0.0046</td>\n",
              "      <td>0.0040</td>\n",
              "      <td>0.0011</td>\n",
              "      <td>0.0625</td>\n",
              "      <td>5.0</td>\n",
              "      <td>0.00</td>\n",
              "    </tr>\n",
              "    <tr>\n",
              "      <th>2</th>\n",
              "      <td>0.1085</td>\n",
              "      <td>0.0667</td>\n",
              "      <td>0.0036</td>\n",
              "      <td>0.0014</td>\n",
              "      <td>0.0191</td>\n",
              "      <td>0.0740</td>\n",
              "      <td>0.0010</td>\n",
              "      <td>0.0013</td>\n",
              "      <td>0.0014</td>\n",
              "      <td>0.0008</td>\n",
              "      <td>...</td>\n",
              "      <td>0.0016</td>\n",
              "      <td>0.0804</td>\n",
              "      <td>0.0060</td>\n",
              "      <td>0.0242</td>\n",
              "      <td>0.0025</td>\n",
              "      <td>0.0094</td>\n",
              "      <td>0.0027</td>\n",
              "      <td>0.1146</td>\n",
              "      <td>10.0</td>\n",
              "      <td>0.01</td>\n",
              "    </tr>\n",
              "    <tr>\n",
              "      <th>3</th>\n",
              "      <td>0.1339</td>\n",
              "      <td>0.0679</td>\n",
              "      <td>0.0075</td>\n",
              "      <td>0.0021</td>\n",
              "      <td>0.0500</td>\n",
              "      <td>0.0858</td>\n",
              "      <td>0.0009</td>\n",
              "      <td>0.0016</td>\n",
              "      <td>0.0024</td>\n",
              "      <td>0.0013</td>\n",
              "      <td>...</td>\n",
              "      <td>0.0017</td>\n",
              "      <td>0.1123</td>\n",
              "      <td>0.0098</td>\n",
              "      <td>0.0480</td>\n",
              "      <td>0.0064</td>\n",
              "      <td>0.0176</td>\n",
              "      <td>0.0050</td>\n",
              "      <td>0.1324</td>\n",
              "      <td>15.0</td>\n",
              "      <td>0.01</td>\n",
              "    </tr>\n",
              "    <tr>\n",
              "      <th>4</th>\n",
              "      <td>0.1448</td>\n",
              "      <td>0.0666</td>\n",
              "      <td>0.0133</td>\n",
              "      <td>0.0036</td>\n",
              "      <td>0.0789</td>\n",
              "      <td>0.0919</td>\n",
              "      <td>0.0010</td>\n",
              "      <td>0.0020</td>\n",
              "      <td>0.0039</td>\n",
              "      <td>0.0017</td>\n",
              "      <td>...</td>\n",
              "      <td>0.0019</td>\n",
              "      <td>0.1243</td>\n",
              "      <td>0.0154</td>\n",
              "      <td>0.0631</td>\n",
              "      <td>0.0126</td>\n",
              "      <td>0.0279</td>\n",
              "      <td>0.0078</td>\n",
              "      <td>0.1383</td>\n",
              "      <td>20.0</td>\n",
              "      <td>0.01</td>\n",
              "    </tr>\n",
              "  </tbody>\n",
              "</table>\n",
              "<p>5 rows × 58 columns</p>\n",
              "</div>\n",
              "      <button class=\"colab-df-convert\" onclick=\"convertToInteractive('df-db235734-d3c5-41e0-8d7c-009a59a0abfd')\"\n",
              "              title=\"Convert this dataframe to an interactive table.\"\n",
              "              style=\"display:none;\">\n",
              "        \n",
              "  <svg xmlns=\"http://www.w3.org/2000/svg\" height=\"24px\"viewBox=\"0 0 24 24\"\n",
              "       width=\"24px\">\n",
              "    <path d=\"M0 0h24v24H0V0z\" fill=\"none\"/>\n",
              "    <path d=\"M18.56 5.44l.94 2.06.94-2.06 2.06-.94-2.06-.94-.94-2.06-.94 2.06-2.06.94zm-11 1L8.5 8.5l.94-2.06 2.06-.94-2.06-.94L8.5 2.5l-.94 2.06-2.06.94zm10 10l.94 2.06.94-2.06 2.06-.94-2.06-.94-.94-2.06-.94 2.06-2.06.94z\"/><path d=\"M17.41 7.96l-1.37-1.37c-.4-.4-.92-.59-1.43-.59-.52 0-1.04.2-1.43.59L10.3 9.45l-7.72 7.72c-.78.78-.78 2.05 0 2.83L4 21.41c.39.39.9.59 1.41.59.51 0 1.02-.2 1.41-.59l7.78-7.78 2.81-2.81c.8-.78.8-2.07 0-2.86zM5.41 20L4 18.59l7.72-7.72 1.47 1.35L5.41 20z\"/>\n",
              "  </svg>\n",
              "      </button>\n",
              "      \n",
              "  <style>\n",
              "    .colab-df-container {\n",
              "      display:flex;\n",
              "      flex-wrap:wrap;\n",
              "      gap: 12px;\n",
              "    }\n",
              "\n",
              "    .colab-df-convert {\n",
              "      background-color: #E8F0FE;\n",
              "      border: none;\n",
              "      border-radius: 50%;\n",
              "      cursor: pointer;\n",
              "      display: none;\n",
              "      fill: #1967D2;\n",
              "      height: 32px;\n",
              "      padding: 0 0 0 0;\n",
              "      width: 32px;\n",
              "    }\n",
              "\n",
              "    .colab-df-convert:hover {\n",
              "      background-color: #E2EBFA;\n",
              "      box-shadow: 0px 1px 2px rgba(60, 64, 67, 0.3), 0px 1px 3px 1px rgba(60, 64, 67, 0.15);\n",
              "      fill: #174EA6;\n",
              "    }\n",
              "\n",
              "    [theme=dark] .colab-df-convert {\n",
              "      background-color: #3B4455;\n",
              "      fill: #D2E3FC;\n",
              "    }\n",
              "\n",
              "    [theme=dark] .colab-df-convert:hover {\n",
              "      background-color: #434B5C;\n",
              "      box-shadow: 0px 1px 3px 1px rgba(0, 0, 0, 0.15);\n",
              "      filter: drop-shadow(0px 1px 2px rgba(0, 0, 0, 0.3));\n",
              "      fill: #FFFFFF;\n",
              "    }\n",
              "  </style>\n",
              "\n",
              "      <script>\n",
              "        const buttonEl =\n",
              "          document.querySelector('#df-db235734-d3c5-41e0-8d7c-009a59a0abfd button.colab-df-convert');\n",
              "        buttonEl.style.display =\n",
              "          google.colab.kernel.accessAllowed ? 'block' : 'none';\n",
              "\n",
              "        async function convertToInteractive(key) {\n",
              "          const element = document.querySelector('#df-db235734-d3c5-41e0-8d7c-009a59a0abfd');\n",
              "          const dataTable =\n",
              "            await google.colab.kernel.invokeFunction('convertToInteractive',\n",
              "                                                     [key], {});\n",
              "          if (!dataTable) return;\n",
              "\n",
              "          const docLinkHtml = 'Like what you see? Visit the ' +\n",
              "            '<a target=\"_blank\" href=https://colab.research.google.com/notebooks/data_table.ipynb>data table notebook</a>'\n",
              "            + ' to learn more about interactive tables.';\n",
              "          element.innerHTML = '';\n",
              "          dataTable['output_type'] = 'display_data';\n",
              "          await google.colab.output.renderOutput(dataTable, element);\n",
              "          const docLink = document.createElement('div');\n",
              "          docLink.innerHTML = docLinkHtml;\n",
              "          element.appendChild(docLink);\n",
              "        }\n",
              "      </script>\n",
              "    </div>\n",
              "  </div>\n",
              "  "
            ]
          },
          "metadata": {},
          "execution_count": 5
        }
      ]
    },
    {
      "cell_type": "markdown",
      "source": [
        "Definition of input and output data"
      ],
      "metadata": {
        "id": "aRzyPiC-frSx"
      }
    },
    {
      "cell_type": "code",
      "source": [
        "def test_input_out_data(k):\n",
        "  return np.array(df.iloc[0:k, 40:56]).transpose()"
      ],
      "metadata": {
        "id": "-ZIw2RWZh1uA"
      },
      "execution_count": 9,
      "outputs": []
    },
    {
      "cell_type": "code",
      "source": [
        "x_test_24 = test_input_out_data(289)\n",
        "\n",
        "x_test_16 = test_input_out_data(193)\n",
        "\n",
        "x_test_12 = test_input_out_data(145)\n",
        "\n",
        "x_test_8 = test_input_out_data(97)\n",
        "\n",
        "x_test_6 = test_input_out_data(73)\n",
        "\n",
        "x_test_2 = test_input_out_data(25)\n",
        "\n",
        "y_test = np.array(df.iloc[1511, 40:56]).transpose().astype('float64')"
      ],
      "metadata": {
        "id": "vBDYAyAdMfzT"
      },
      "execution_count": 10,
      "outputs": []
    },
    {
      "cell_type": "markdown",
      "source": [
        "Loading Saved Models"
      ],
      "metadata": {
        "id": "sIo3Z42sMeJX"
      }
    },
    {
      "cell_type": "code",
      "execution_count": 11,
      "metadata": {
        "id": "sUJPtGb2jYcR"
      },
      "outputs": [],
      "source": [
        "def model(json_file, weights):\n",
        "  with open(json_file, 'r') as f:\n",
        "    loaded_model = tf.keras.models.model_from_json(f.read())\n",
        "    loaded_model.load_weights(weights)\n",
        "  return loaded_model"
      ]
    },
    {
      "cell_type": "code",
      "source": [
        "model24 = model('model24_direct.json', 'weights24_direct.h5')\n",
        "model16 = model('model16_direct.json', 'weights16_direct.h5')\n",
        "model12 = model('model12_direct.json', 'weights12_direct.h5')\n",
        "model8 = model('model8_direct.json', 'weights8_direct.h5')\n",
        "model6 = model('model6_direct.json', 'weights6_direct.h5')\n",
        "model2 = model('model2_direct.json', 'weights2_direct.h5')"
      ],
      "metadata": {
        "id": "BKj-20eosRE3"
      },
      "execution_count": 12,
      "outputs": []
    },
    {
      "cell_type": "markdown",
      "source": [
        "Prediction on a test sample"
      ],
      "metadata": {
        "id": "_TvsckuPMmfu"
      }
    },
    {
      "cell_type": "code",
      "source": [
        "pred24 = np.array(model24(x_test_24))\n",
        "pred16 = np.array(model16(x_test_16))\n",
        "pred12 = np.array(model12(x_test_12))\n",
        "pred8 = np.array(model8(x_test_8))\n",
        "pred6 = np.array(model6(x_test_6))\n",
        "pred2 = np.array(model2(x_test_2))"
      ],
      "metadata": {
        "id": "kl2v8t5RxpeL"
      },
      "execution_count": 13,
      "outputs": []
    },
    {
      "cell_type": "code",
      "source": [
        "# error predict\n",
        "def print_error(y, pred):\n",
        "  print(mean_absolute_error(y, pred))\n",
        "  print(mean_absolute_percentage_error(y, pred))\n",
        "  TEST_MAE = []\n",
        "  for i in range(0, 16):\n",
        "    TEST_MAE.append(abs(y[i]-pred[i]))\n",
        "  print(np.array(TEST_MAE).max())\n",
        "  print(r2_score(y, pred))\n",
        "  print(' ')"
      ],
      "metadata": {
        "id": "jjU6q-44o67n"
      },
      "execution_count": 14,
      "outputs": []
    },
    {
      "cell_type": "code",
      "source": [
        "# error predict\n",
        "print_error(y_test, pred24)\n",
        "print_error(y_test, pred16)\n",
        "print_error(y_test, pred12)\n",
        "print_error(y_test, pred8)\n",
        "print_error(y_test, pred6)\n",
        "print_error(y_test, pred2)"
      ],
      "metadata": {
        "colab": {
          "base_uri": "https://localhost:8080/"
        },
        "id": "56bqQDU-pIJM",
        "outputId": "eb504308-4857-4ff7-ff73-c77516bc996b"
      },
      "execution_count": 15,
      "outputs": [
        {
          "output_type": "stream",
          "name": "stdout",
          "text": [
            "1.4620272314548493\n",
            "0.08724113294355122\n",
            "9.617565\n",
            "0.9230416343719431\n",
            " \n",
            "1.975670636892319\n",
            "0.11232977587994677\n",
            "11.339924\n",
            "0.8779836448730596\n",
            " \n",
            "2.2432126021385197\n",
            "0.13597497884253804\n",
            "10.624981\n",
            "0.8755757921239472\n",
            " \n",
            "2.456458494663239\n",
            "0.15769900609021265\n",
            "9.469721\n",
            "0.8574009094332378\n",
            " \n",
            "3.5447854173183444\n",
            "0.21020569403509592\n",
            "18.741627\n",
            "0.6594116641840735\n",
            " \n",
            "4.6978434109687806\n",
            "0.3660402170716154\n",
            "25.36213\n",
            "0.3855531456989024\n",
            " \n"
          ]
        }
      ]
    },
    {
      "cell_type": "markdown",
      "source": [
        "BOD > 220 pollution\n",
        "\n",
        "from liters to 60, 50, 40 ml"
      ],
      "metadata": {
        "id": "g9OQI_1pvgGf"
      }
    },
    {
      "cell_type": "code",
      "source": [
        "BOD = [(220 * 40)/ 1000, (220 * 60)/ 1000, (220 * 60)/ 1000, \\\n",
        "       (220 * 60)/ 1000, (220 * 60)/ 1000, (220 * 60)/ 1000, \\\n",
        "       (220 * 60)/ 1000, (220 * 60)/ 1000, (220 * 60)/ 1000, \\\n",
        "       (220 * 60)/ 1000, (220 * 60)/ 1000, (220 * 40)/ 1000, \\\n",
        "       (220 * 60)/ 1000, (220 * 60)/ 1000, (220 * 60)/ 1000, (220 * 50)/ 1000]"
      ],
      "metadata": {
        "id": "li1t6d6JUhCt"
      },
      "execution_count": 18,
      "outputs": []
    },
    {
      "cell_type": "code",
      "source": [
        "BOD"
      ],
      "metadata": {
        "colab": {
          "base_uri": "https://localhost:8080/"
        },
        "id": "Opru9FIpgwUw",
        "outputId": "0a4de053-e72c-40ac-d2cb-8f8256af2b23"
      },
      "execution_count": 55,
      "outputs": [
        {
          "output_type": "execute_result",
          "data": {
            "text/plain": [
              "[8.8,\n",
              " 13.2,\n",
              " 13.2,\n",
              " 13.2,\n",
              " 13.2,\n",
              " 13.2,\n",
              " 13.2,\n",
              " 13.2,\n",
              " 13.2,\n",
              " 13.2,\n",
              " 13.2,\n",
              " 8.8,\n",
              " 13.2,\n",
              " 13.2,\n",
              " 13.2,\n",
              " 11.0]"
            ]
          },
          "metadata": {},
          "execution_count": 55
        }
      ]
    },
    {
      "cell_type": "code",
      "source": [
        "def pollution(y_test):\n",
        "  pollution = []\n",
        "  pred_pollution = []\n",
        "  for i in range(0, 16):\n",
        "    if y_test[i] > BOD[i]:\n",
        "      pollution.append(1)\n",
        "    else:\n",
        "      pollution.append(0)\n",
        "  return np.array(pollution)"
      ],
      "metadata": {
        "id": "4VbsuTIqZfFi"
      },
      "execution_count": 66,
      "outputs": []
    },
    {
      "cell_type": "code",
      "source": [
        "pol = pollution(y_test)\n",
        "pred_pol24 = pollution(pred24)\n",
        "pred_pol16= pollution(pred16)\n",
        "pred_pol12 = pollution(pred12)\n",
        "pred_pol8 = pollution(pred8)\n",
        "pred_pol6 = pollution(pred6)\n",
        "pred_pol2 = pollution(pred2)"
      ],
      "metadata": {
        "id": "CiNV7ptuifvA"
      },
      "execution_count": 74,
      "outputs": []
    },
    {
      "cell_type": "code",
      "source": [
        "def count(pred_pol):\n",
        "  c = 0\n",
        "  for i in range(0, 16):\n",
        "    if pred_pol[i] == pol[i]:\n",
        "      c = c+1\n",
        "  return c"
      ],
      "metadata": {
        "id": "XBO48LiFtvKi"
      },
      "execution_count": 87,
      "outputs": []
    },
    {
      "cell_type": "code",
      "source": [
        "def count_1(pred_pol):\n",
        "  c = 0\n",
        "  for i in range(0, 16):\n",
        "    if pol[i] == 1:\n",
        "      if pred_pol[i] == pol[i]:\n",
        "        c = c+1\n",
        "  return c"
      ],
      "metadata": {
        "id": "zgjD9sBLi9LG"
      },
      "execution_count": 81,
      "outputs": []
    },
    {
      "cell_type": "code",
      "source": [
        "def count_0(pred_pol):\n",
        "  c = 0\n",
        "  for i in range(0, 16):\n",
        "    if pol[i] == 0:\n",
        "      if pred_pol[i] == pol[i]:\n",
        "        c = c+1\n",
        "  return c"
      ],
      "metadata": {
        "id": "vdoN5s4XnvYn"
      },
      "execution_count": 83,
      "outputs": []
    },
    {
      "cell_type": "markdown",
      "source": [
        "sensitivity"
      ],
      "metadata": {
        "id": "ctbCdFibtS5T"
      }
    },
    {
      "cell_type": "code",
      "source": [
        "print(count_1(pred_pol24) / pol[pol == 1].size)\n",
        "print(count_1(pred_pol16) / pol[pol == 1].size)\n",
        "print(count_1(pred_pol12) / pol[pol == 1].size)\n",
        "print(count_1(pred_pol8) / pol[pol == 1].size)\n",
        "print(count_1(pred_pol6) / pol[pol == 1].size)\n",
        "print(count_1(pred_pol2) / pol[pol == 1].size)"
      ],
      "metadata": {
        "colab": {
          "base_uri": "https://localhost:8080/"
        },
        "id": "YaZNlb4Dmgw3",
        "outputId": "e4ee4490-98bf-41d5-da84-eae2c4d70197"
      },
      "execution_count": 82,
      "outputs": [
        {
          "output_type": "stream",
          "name": "stdout",
          "text": [
            "1.0\n",
            "0.9\n",
            "0.9\n",
            "0.8\n",
            "0.8\n",
            "0.8\n"
          ]
        }
      ]
    },
    {
      "cell_type": "markdown",
      "source": [
        "specificity"
      ],
      "metadata": {
        "id": "eCsCyMiDtOU6"
      }
    },
    {
      "cell_type": "code",
      "source": [
        "print(count_0(pred_pol24) / pol[pol == 0].size)\n",
        "print(count_0(pred_pol16) / pol[pol == 0].size)\n",
        "print(count_0(pred_pol12) / pol[pol == 0].size)\n",
        "print(count_0(pred_pol8) / pol[pol == 0].size)\n",
        "print(count_0(pred_pol6) / pol[pol == 0].size)\n",
        "print(count_0(pred_pol2) / pol[pol == 0].size)"
      ],
      "metadata": {
        "colab": {
          "base_uri": "https://localhost:8080/"
        },
        "id": "asL3X4f1oCBl",
        "outputId": "9b8fd47a-8e4c-4b3e-ec39-92a55d3d8a5b"
      },
      "execution_count": 84,
      "outputs": [
        {
          "output_type": "stream",
          "name": "stdout",
          "text": [
            "1.0\n",
            "0.8333333333333334\n",
            "1.0\n",
            "1.0\n",
            "0.6666666666666666\n",
            "0.6666666666666666\n"
          ]
        }
      ]
    },
    {
      "cell_type": "markdown",
      "source": [
        "accuracy"
      ],
      "metadata": {
        "id": "T8QMzd8HuWeS"
      }
    },
    {
      "cell_type": "code",
      "source": [
        "print(count(pred_pol24) / pol.size)\n",
        "print(count(pred_pol16) / pol.size)\n",
        "print(count(pred_pol12) / pol.size)\n",
        "print(count(pred_pol8) / pol.size)\n",
        "print(count(pred_pol6) / pol.size)\n",
        "print(count(pred_pol2) / pol.size)"
      ],
      "metadata": {
        "colab": {
          "base_uri": "https://localhost:8080/"
        },
        "id": "XaD2ZoE3uPDL",
        "outputId": "5dd79c99-0046-4414-eeb7-0cec3b9cce97"
      },
      "execution_count": 88,
      "outputs": [
        {
          "output_type": "stream",
          "name": "stdout",
          "text": [
            "1.0\n",
            "0.875\n",
            "0.9375\n",
            "0.875\n",
            "0.75\n",
            "0.75\n"
          ]
        }
      ]
    }
  ]
}